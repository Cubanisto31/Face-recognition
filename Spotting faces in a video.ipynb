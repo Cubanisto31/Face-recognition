{
 "cells": [
  {
   "cell_type": "code",
   "execution_count": 2,
   "id": "e75ac289",
   "metadata": {},
   "outputs": [],
   "source": [
    "# Repérer les visages dans une vidéo\n",
    "import face_recognition\n",
    "import cv2\n",
    "\n",
    "# Chemin de la vidéo\n",
    "video_path = r\"C:\\Users\\paulf\\Downloads\\Video test Ronan et Bastian.mp4\"\n",
    "video_capture = cv2.VideoCapture(video_path)\n",
    "\n",
    "# Obtenir les dimensions et la fréquence de la vidéo\n",
    "frame_width = int(video_capture.get(cv2.CAP_PROP_FRAME_WIDTH))\n",
    "frame_height = int(video_capture.get(cv2.CAP_PROP_FRAME_HEIGHT))\n",
    "fps = int(video_capture.get(cv2.CAP_PROP_FPS))\n",
    "\n",
    "# Définir le codec et créer un objet VideoWriter pour enregistrer la vidéo de sortie\n",
    "output_path = r\"C:\\Users\\paulf\\Downloads\\Video_detected_output2.avi\"\n",
    "fourcc = cv2.VideoWriter_fourcc(*'XVID')\n",
    "output_video = cv2.VideoWriter(output_path, fourcc, fps, (frame_width, frame_height))\n",
    "\n",
    "# Lire chaque frame de la vidéo\n",
    "while video_capture.isOpened():\n",
    "    ret, frame = video_capture.read()\n",
    "    if not ret:\n",
    "        break  # Sortir de la boucle si la vidéo est terminée\n",
    "\n",
    "    # Convertir la frame en RGB (face_recognition utilise RGB, OpenCV utilise BGR)\n",
    "    rgb_frame = cv2.cvtColor(frame, cv2.COLOR_BGR2RGB)\n",
    "\n",
    "    # Détection des visages\n",
    "    face_locations = face_recognition.face_locations(rgb_frame)\n",
    "\n",
    "    # Dessiner des rectangles autour des visages détectés\n",
    "    for (top, right, bottom, left) in face_locations:\n",
    "        cv2.rectangle(frame, (left, top), (right, bottom), (0, 255, 0), 2)\n",
    "\n",
    "    # Ajouter la frame avec les visages détectés à la vidéo de sortie\n",
    "    output_video.write(frame)\n",
    "\n",
    "    # Afficher la frame avec les visages détectés (facultatif pour l'enregistrement)\n",
    "    cv2.imshow(\"Video\", frame)\n",
    "\n",
    "    # Quitter la vidéo si 'q' est pressé\n",
    "    if cv2.waitKey(1) & 0xFF == ord('q'):\n",
    "        break\n",
    "\n",
    "# Libérer les ressources\n",
    "video_capture.release()\n",
    "output_video.release()  # Ne pas oublier de libérer l'objet d'enregistrement vidéo\n",
    "cv2.destroyAllWindows()"
   ]
  },
  {
   "cell_type": "code",
   "execution_count": null,
   "id": "fc843a67",
   "metadata": {},
   "outputs": [],
   "source": []
  }
 ],
 "metadata": {
  "kernelspec": {
   "display_name": "Python 3.11 (dlib)",
   "language": "python",
   "name": "python311_env"
  },
  "language_info": {
   "codemirror_mode": {
    "name": "ipython",
    "version": 3
   },
   "file_extension": ".py",
   "mimetype": "text/x-python",
   "name": "python",
   "nbconvert_exporter": "python",
   "pygments_lexer": "ipython3",
   "version": "3.11.3"
  }
 },
 "nbformat": 4,
 "nbformat_minor": 5
}
